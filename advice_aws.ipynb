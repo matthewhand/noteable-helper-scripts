{
  "nbformat": 4,
  "nbformat_minor": 5,
  "metadata": {
    "selected_hardware_size": "small",
    "noteable": {
      "last_transaction_id": "2ba182bb-9f96-4bea-9a89-636a9bac1802"
    }
  },
  "cells": [
    {
      "id": "ea3752f3",
      "cell_type": "markdown",
      "source": "Advice for AWS\nThis notebook contains advice for accessing AWS. The advice is designed to help future instances of ChatGPT make efficient use of AWS services.\n\nConnecting to AWS\nPrefer to use boto3 using python notebook.  Environment variables are configured including AWS_REGION, AWS_ACCOUNT_ID, AWS_ACCESS_KEY_ID, AWS_SECRET_ACCESS_KEY and AWS_DEFAULT_REGION.",
      "metadata": {
        "noteable": {
          "cell_type": "markdown"
        }
      }
    },
    {
      "id": "9bcf1ccd-9fa5-4a19-9524-d22d7650d4f5",
      "cell_type": "markdown",
      "source": "Secrets\nALways use SecureStrings in SSM Parameter Store. Some credentials already exist i.e. '/api/github'.",
      "metadata": {
        "noteable": {
          "cell_type": "markdown"
        }
      }
    },
    {
      "id": "836f2fe4-884e-4dd4-9b3b-6ef52d8146a5",
      "cell_type": "markdown",
      "source": "SSM agents are installed and can be used to manage hybrid instances, including the 'master' server.  ",
      "metadata": {
        "noteable": {
          "cell_type": "markdown"
        }
      }
    },
    {
      "id": "f30655d7-9cc5-432c-917c-1f9266992987",
      "cell_type": "markdown",
      "source": "When creating CloudFormation templates generate using multiple notebook cells and aggregate using a helper script.  We prefer YAML for CloudFormation.\n\nUse SAM when deploying Lambda with CFN.",
      "metadata": {
        "noteable": {
          "cell_type": "markdown"
        }
      }
    },
    {
      "id": "dd7ad259-f60e-4cf0-8ac3-a5e46795ab07",
      "cell_type": "markdown",
      "source": "When creating resources please name them after the project and the type of resource e.g. face-recognition-lambda-role.",
      "metadata": {
        "noteable": {
          "cell_type": "markdown"
        }
      }
    },
    {
      "id": "b5de54a4-a5ac-453d-a77f-5870f167498f",
      "cell_type": "markdown",
      "source": "",
      "metadata": {
        "noteable": {
          "cell_type": "markdown"
        }
      }
    }
  ]
}