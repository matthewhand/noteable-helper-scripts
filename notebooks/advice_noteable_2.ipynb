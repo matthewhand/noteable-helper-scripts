{
  "nbformat": 4,
  "nbformat_minor": 5,
  "metadata": {
    "noteable-chatgpt": {
      "create_notebook": {
        "openai_conversation_id": "c04ba657-d079-5b23-8511-4e6ebbc4b3ad",
        "openai_ephemeral_user_id": "cdabadf7-dfc4-5312-bff0-f12c496324d6",
        "openai_subdivision1_iso_code": "AU-ACT"
      }
    },
    "noteable": {
      "last_transaction_id": "5db975b0-602a-4b05-8673-210cffc3982f"
    }
  },
  "cells": [
    {
      "id": "fa8dcf2b-d970-4312-b2cd-caf5e665019f",
      "cell_type": "markdown",
      "source": "# Advice for Noteable\n\nThis notebook contains advice for using Noteable. The advice is designed to help future instances of ChatGPT make efficient use of the platform.\n\n## Avoiding Timeouts\n\nAvoid inputting too much into any plugin, as they can time out and get stuck in a loop. Instead, incrementally build content using multiple notebook cells, then programmatically aggregate the result into a separate standalone file.\n\n## Avoiding Specific Cell IDs\n\nTry to avoid using specific cell IDs because you often get them wrong. Instead, prefer iterating through the notebook using the relevant Python module.",
      "metadata": {
        "noteable": {
          "cell_type": "markdown"
        }
      }
    },
    {
      "id": "c82e2722-fd2a-403a-aa2a-ac91bf2d948d",
      "cell_type": "code",
      "metadata": {
        "noteable": {
          "cell_type": "code",
          "output_collection_id": "979c84d9-a276-41f3-a047-7a62df1d402f"
        },
        "ExecuteTime": {
          "end_time": "2023-06-19T01:31:40.276201+00:00",
          "start_time": "2023-06-19T01:31:39.711370+00:00"
        }
      },
      "execution_count": null,
      "source": "from upload_notebook import upload_notebook_to_github\n\nupload_notebook_to_github('advice_noteable_2.ipynb')",
      "outputs": []
    },
    {
      "id": "cf7d89ed-2d3e-4b25-aada-ddbb3879249e",
      "cell_type": "code",
      "metadata": {
        "noteable": {
          "cell_type": "code",
          "output_collection_id": "35ab7cec-e7c8-4bf3-9d2c-c1b9accc5f35"
        },
        "ExecuteTime": {
          "end_time": "2023-06-19T01:32:03.056528+00:00",
          "start_time": "2023-06-19T01:31:58.120786+00:00"
        }
      },
      "execution_count": null,
      "source": "!pip install pyGithub",
      "outputs": []
    },
    {
      "id": "8e888f88-e4dd-4a3d-89b8-e720758adbec",
      "cell_type": "code",
      "metadata": {
        "noteable": {
          "cell_type": "code",
          "output_collection_id": "1ff3f7e5-5cae-476c-b071-8c4c15f17482"
        },
        "ExecuteTime": {
          "end_time": "2023-06-19T01:32:19.565487+00:00",
          "start_time": "2023-06-19T01:32:14.541847+00:00"
        }
      },
      "execution_count": null,
      "source": "from upload_notebook import upload_notebook_to_github\n\nupload_notebook_to_github('advice_noteable_2.ipynb')",
      "outputs": []
    }
  ]
}