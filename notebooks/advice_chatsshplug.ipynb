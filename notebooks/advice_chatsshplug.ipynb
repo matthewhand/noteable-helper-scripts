{
  "nbformat": 4,
  "nbformat_minor": 5,
  "metadata": {
    "noteable-chatgpt": {
      "create_notebook": {
        "openai_conversation_id": "c04ba657-d079-5b23-8511-4e6ebbc4b3ad",
        "openai_ephemeral_user_id": "cdabadf7-dfc4-5312-bff0-f12c496324d6",
        "openai_subdivision1_iso_code": "AU-ACT"
      }
    },
    "noteable": {
      "last_transaction_id": "7157648c-9bff-4371-bf5f-616cb6a9f9a2"
    }
  },
  "cells": [
    {
      "id": "19a34621-ce7b-4311-b76f-9dd6279e5e32",
      "cell_type": "markdown",
      "source": "# Advice for ChatSSHPlug\n\nThis notebook contains advice for using the ChatSSHPlug plugin. The advice is designed to help future instances of ChatGPT make efficient use of the plugin.\n\n## Connecting to a Server\n\nTo connect to a server with the alias 'master' using ChatSSHPlug, specify the alias and command for parameters. No other parameters are needed.\n\n## Combining Commands\n\nTo maximize efficiency, combine multiple commands into a single shell script. Ensure that stderr and stdout are logged and reviewed in the same batch. For example, you can use the following command:\n\n```bash\nbash -c 'df 2>&1 > df.log ; cat df.log'\n```\n\n## Avoiding Timeouts\n\nAvoid inputting too much into any plugin, as they can time out and get stuck in a loop. Instead, incrementally build content, then programmatically aggregate the result into a separate standalone file.",
      "metadata": {
        "noteable": {
          "cell_type": "markdown"
        }
      }
    },
    {
      "id": "3343c91d-9c7d-440d-a487-55874a674569",
      "cell_type": "code",
      "metadata": {
        "noteable": {
          "cell_type": "code",
          "output_collection_id": "ce703f42-6781-4b79-a0f7-0e12da95c373"
        },
        "ExecuteTime": {
          "end_time": "2023-06-19T01:20:14.766612+00:00",
          "start_time": "2023-06-19T01:20:14.053683+00:00"
        }
      },
      "execution_count": null,
      "source": "from upload_notebook import upload_notebook_to_github\n\nupload_notebook_to_github('advice_chatsshplug.ipynb')",
      "outputs": []
    }
  ]
}