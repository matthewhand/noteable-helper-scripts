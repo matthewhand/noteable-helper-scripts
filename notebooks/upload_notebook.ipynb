{
  "nbformat": 4,
  "nbformat_minor": 5,
  "metadata": {
    "noteable-chatgpt": {
      "create_notebook": {
        "openai_conversation_id": "c04ba657-d079-5b23-8511-4e6ebbc4b3ad",
        "openai_ephemeral_user_id": "cdabadf7-dfc4-5312-bff0-f12c496324d6",
        "openai_subdivision1_iso_code": "AU-ACT"
      }
    },
    "noteable": {
      "last_transaction_id": "5b744a29-35ad-4179-ae7f-f35ddeef8c6c"
    }
  },
  "cells": [
    {
      "id": "1bea3d4b-2987-4b0a-9ddc-c4034a3cd08d",
      "cell_type": "code",
      "metadata": {
        "noteable": {
          "cell_type": "code",
          "output_collection_id": "51188bdf-d1bf-43ea-bc8d-6c563384b6c2"
        },
        "ExecuteTime": {
          "end_time": "2023-06-19T00:58:51.535260+00:00",
          "start_time": "2023-06-19T00:58:51.309099+00:00"
        }
      },
      "execution_count": null,
      "source": "import os\nimport requests\nfrom getpass import getpass\nfrom github import Github\n\ndef upload_notebook_to_github(filename):\n    # Get GitHub token\n    token = os.getenv('GITHUB_TOKEN')\n    g = Github(token)\n\n    # Get repo\n    user = g.get_user()\n    repo = user.get_repo('noteable-helper-scripts')\n\n    # Read file\n    with open(filename, 'r') as file:\n        content = file.read()\n\n    # Upload to GitHub\n    try:\n        repo.create_file(f'notebooks/{filename}', 'Upload notebook', content)\n        print(f'Successfully uploaded {filename} to GitHub.')\n    except:\n        contents = repo.get_contents(f'notebooks/{filename}')\n        repo.update_file(contents.path, 'Update notebook', content, contents.sha)\n        print(f'Successfully updated {filename} on GitHub.')",
      "outputs": []
    },
    {
      "id": "c6c09378-a225-45f1-a020-b735659c0844",
      "cell_type": "code",
      "metadata": {
        "noteable": {
          "cell_type": "code",
          "output_collection_id": "f6cc688b-0634-498c-b072-cc9e1fe2aaa5"
        },
        "ExecuteTime": {
          "end_time": "2023-06-19T00:58:23.416760+00:00",
          "start_time": "2023-06-19T00:58:18.416370+00:00"
        }
      },
      "execution_count": null,
      "source": "!pip install PyGithub",
      "outputs": []
    }
  ]
}