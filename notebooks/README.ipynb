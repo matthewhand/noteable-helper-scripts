{
  "nbformat": 4,
  "nbformat_minor": 5,
  "metadata": {
    "noteable-chatgpt": {
      "create_notebook": {
        "openai_conversation_id": "c04ba657-d079-5b23-8511-4e6ebbc4b3ad",
        "openai_ephemeral_user_id": "cdabadf7-dfc4-5312-bff0-f12c496324d6",
        "openai_subdivision1_iso_code": "AU-ACT"
      }
    },
    "noteable": {
      "last_transaction_id": "aef4ee9f-7527-4f52-8636-c50f968d0010"
    }
  },
  "cells": [
    {
      "id": "47554170-a5cb-4ca2-bb14-f1a16cb3d77e",
      "cell_type": "markdown",
      "source": "# Noteable Helper Scripts\n\nThis repository contains helper scripts for working with Noteable notebooks. The scripts are designed to automate common tasks such as uploading notebooks to GitHub and filtering Python cells from a notebook.\n\n## Files\n\nThe following files are included in this repository:\n\n- [upload_notebook.ipynb](https://app.noteable.io/f/0ef0f288-af3d-43c6-9b04-0ec796599f91/): This notebook contains a script to upload a notebook to a GitHub repository.\n- [filter_python_cells.ipynb](https://app.noteable.io/f/2f96c7aa-442d-4335-817b-2af7b985d58a/): This notebook contains a script to filter Python cells from a notebook and write them to a `.py` file.\n- [notebook_to_script.ipynb](https://app.noteable.io/f/bbfa4ba5-cf61-48be-88bb-fd2193806178/): This notebook contains a script to convert a notebook to a Python script.\n\n## Usage\n\nTo use these scripts, you will need to update them to use the appropriate references for your specific project needs. For example, you will need to update the GitHub repository in the `upload_notebook.ipynb` script to point to your own GitHub repository.\n\nOnce you have updated the scripts, you can run them in a Noteable notebook to perform the desired tasks.",
      "metadata": {
        "noteable": {
          "cell_type": "markdown"
        }
      }
    },
    {
      "id": "4fc6036f-65a5-49e5-802b-3206f04a31f5",
      "cell_type": "code",
      "metadata": {
        "noteable": {
          "cell_type": "code",
          "output_collection_id": "a643c7eb-6d89-478f-b166-ddee89765438"
        },
        "ExecuteTime": {
          "end_time": "2023-06-19T01:15:41.562498+00:00",
          "start_time": "2023-06-19T01:15:40.945942+00:00"
        }
      },
      "execution_count": null,
      "source": "upload_notebook_to_github('README.ipynb')",
      "outputs": []
    },
    {
      "id": "8acaf1ec-55da-41a6-acc6-0dfdd316d8b0",
      "cell_type": "code",
      "metadata": {
        "noteable": {
          "cell_type": "code",
          "output_collection_id": "143a7d86-bfdf-4c24-b3de-ff19a05821df"
        },
        "ExecuteTime": {
          "end_time": "2023-06-19T01:15:59.752192+00:00",
          "start_time": "2023-06-19T01:15:59.560762+00:00"
        }
      },
      "execution_count": null,
      "source": "from upload_notebook import upload_notebook_to_github\n\nupload_notebook_to_github('README.ipynb')",
      "outputs": []
    }
  ]
}