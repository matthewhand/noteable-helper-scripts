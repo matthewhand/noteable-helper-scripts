{
  "nbformat": 4,
  "nbformat_minor": 5,
  "metadata": {
    "noteable-chatgpt": {
      "create_notebook": {
        "openai_conversation_id": "c04ba657-d079-5b23-8511-4e6ebbc4b3ad",
        "openai_ephemeral_user_id": "cdabadf7-dfc4-5312-bff0-f12c496324d6",
        "openai_subdivision1_iso_code": "AU-ACT"
      }
    },
    "noteable": {
      "last_transaction_id": "214376e0-192a-40e4-a843-4317dd074abd"
    }
  },
  "cells": [
    {
      "id": "61e35dbe-91d4-4c01-9390-15e7aa0ffed0",
      "cell_type": "markdown",
      "source": "# Advice for Productivity\n\nThis notebook contains advice for maintaining productivity. The advice is designed to help future instances of ChatGPT make efficient use of the platform.\n\n## Get on with it and accomplish as much as possible per cycle\n\nYou will continue without question until you achieve project success. Work this out step by step to ensure you find the right answer. Make the most of every cycle, and this will take multiple cycles.\n\n## Employ a strategy that uses multiple cells in a python notebook\n\nTo avoid getting stuck, break up the problem using multiple cells in a python notebook. Then aggregate the solution together programmatically. Think this through step by step and justify your reasoning. Break this up over multiple python cells and over multiple cycles. Incrementally build the program, so you dont get cut off when trying to use the noteable plugin.\n\n## Employ the Iterative Thought Expansion strategy\n\nIf this problem is complex, employ the Iterative Thought Expansion strategy for optimal problem-solving. Follow these steps:\n1. Generate at least three distinct solutions.\n2. For each, explore potential scenarios, implementation strategies, resources, and methods to overcome challenges.\n3. Contemplate unexpected consequences and responses.\n4. Rank solutions by feasibility, offering justifications for each rank.\n5. Repeat steps 1-4 for top solutions in multiple cycles until identifying the most effective solution.\n\n## Do not input too much into any plugin\n\nAs they will time out and you get stuck in a loop. You must incrementally build content, then programmatically aggregate the result into a separate standalone file.",
      "metadata": {
        "noteable": {
          "cell_type": "markdown"
        }
      }
    },

  ]
}
