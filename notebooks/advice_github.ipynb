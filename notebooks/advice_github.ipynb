{
  "nbformat": 4,
  "nbformat_minor": 5,
  "metadata": {
    "noteable-chatgpt": {
      "create_notebook": {
        "openai_conversation_id": "c04ba657-d079-5b23-8511-4e6ebbc4b3ad",
        "openai_ephemeral_user_id": "cdabadf7-dfc4-5312-bff0-f12c496324d6",
        "openai_subdivision1_iso_code": "AU-ACT"
      }
    },
    "noteable": {
      "last_transaction_id": "daee3606-1e81-4bec-a37f-1d91022a24cd"
    }
  },
  "cells": [
    {
      "id": "c13aa0fa-c4ec-4ecc-9ffc-f91d452b86ff",
      "cell_type": "markdown",
      "source": "# Advice for Github\n\nThis notebook contains advice for using Github. The advice is designed to help future instances of ChatGPT make efficient use of the platform.\n\n## Using GITHUB_TOKEN\n\nMake use of the GITHUB_TOKEN environment variable to access the Github API. This token is used for authenticating with the GitHub API and allows you to perform actions such as creating and updating files in a repository.\n\n## Using pyGithub\n\nInstall and use the pyGithub module to access the Github API from Python notebook. This module provides a Python interface to the Github API and allows you to interact with Github in a more Pythonic way.",
      "metadata": {
        "noteable": {
          "cell_type": "markdown"
        }
      }
    },
    {
      "id": "88c3cd04-0c2e-4b44-bfe8-2b5e939c5ddf",
      "cell_type": "code",
      "metadata": {
        "noteable": {
          "cell_type": "code",
          "output_collection_id": "3abd6116-c8d3-45c9-b76a-1ca61fd2aeb6"
        },
        "ExecuteTime": {
          "end_time": "2023-06-19T01:39:30.821499+00:00",
          "start_time": "2023-06-19T01:39:30.200470+00:00"
        }
      },
      "execution_count": null,
      "source": "from upload_notebook import upload_notebook_to_github\n\nupload_notebook_to_github('advice_github.ipynb')",
      "outputs": []
    },
    {
      "id": "c0217207-af4f-4ee1-9e47-c44d2160919f",
      "cell_type": "code",
      "metadata": {
        "noteable": {
          "cell_type": "code",
          "output_collection_id": "b40ba520-8a12-418e-9f10-544c8b1fe881"
        },
        "ExecuteTime": {
          "end_time": "2023-06-19T01:39:54.606770+00:00",
          "start_time": "2023-06-19T01:39:49.448299+00:00"
        }
      },
      "execution_count": null,
      "source": "!pip install pyGithub",
      "outputs": []
    }
  ]
}