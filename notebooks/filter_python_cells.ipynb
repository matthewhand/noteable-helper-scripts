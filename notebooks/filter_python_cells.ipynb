{
  "nbformat": 4,
  "nbformat_minor": 5,
  "metadata": {
    "noteable-chatgpt": {
      "create_notebook": {
        "openai_conversation_id": "c04ba657-d079-5b23-8511-4e6ebbc4b3ad",
        "openai_ephemeral_user_id": "cdabadf7-dfc4-5312-bff0-f12c496324d6",
        "openai_subdivision1_iso_code": "AU-ACT"
      }
    },
    "noteable": {
      "last_transaction_id": "68537ca1-0894-4afb-b5b7-2d0f51250978"
    }
  },
  "cells": [
    {
      "id": "dd162506-d6e6-4679-b6e5-4ce3ad35740c",
      "cell_type": "code",
      "metadata": {
        "noteable": {
          "cell_type": "code",
          "output_collection_id": "348ae987-8cb7-4f73-93a4-72bd4222e074"
        },
        "ExecuteTime": {
          "end_time": "2023-06-19T00:59:35.264767+00:00",
          "start_time": "2023-06-19T00:59:35.017177+00:00"
        }
      },
      "execution_count": null,
      "source": "import nbformat\n\ndef filter_python_cells(filename):\n    # Read the notebook\n    with open(filename) as f:\n        nb = nbformat.read(f, as_version=4)\n\n    # Filter out the Python cells\n    python_cells = [cell for cell in nb.cells if cell.cell_type == 'code']\n\n    # Write the Python cells to a .py file\n    with open(filename.replace('.ipynb', '.py'), 'w') as f:\n        for cell in python_cells:\n            f.write(''.join(cell.source))\n            f.write('\\n\\n')\n\n    print(f'Successfully filtered Python cells from {filename} and wrote them to a .py file.')",
      "outputs": []
    },
    {
      "id": "99995fed-6e12-4afe-b364-21f50451b95d",
      "cell_type": "code",
      "metadata": {
        "noteable": {
          "cell_type": "code",
          "output_collection_id": "42d2cbc7-e0d1-4248-933b-456b6c87917d"
        },
        "ExecuteTime": {
          "end_time": "2023-06-19T00:59:16.634436+00:00",
          "start_time": "2023-06-19T00:59:12.205917+00:00"
        }
      },
      "execution_count": null,
      "source": "!pip install nbformat",
      "outputs": []
    }
  ]
}