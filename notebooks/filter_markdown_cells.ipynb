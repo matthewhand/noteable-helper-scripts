{
  "nbformat": 4,
  "nbformat_minor": 5,
  "metadata": {
    "noteable-chatgpt": {
      "create_notebook": {
        "openai_conversation_id": "c04ba657-d079-5b23-8511-4e6ebbc4b3ad",
        "openai_ephemeral_user_id": "cdabadf7-dfc4-5312-bff0-f12c496324d6",
        "openai_subdivision1_iso_code": "AU-ACT"
      }
    },
    "noteable": {
      "last_transaction_id": "c00bb120-eb41-4795-9542-346cdeb052ea"
    }
  },
  "cells": [
    {
      "id": "b1285b83-c8a9-4c37-aa64-151c5912f3bd",
      "cell_type": "code",
      "metadata": {
        "noteable": {
          "cell_type": "code"
        }
      },
      "execution_count": null,
      "source": "!pip install nbformat",
      "outputs": []
    },
    {
      "id": "5ba339b5-b8c3-4b13-95b5-5a55d5d80b82",
      "cell_type": "code",
      "metadata": {
        "noteable": {
          "cell_type": "code"
        }
      },
      "execution_count": null,
      "source": "import nbformat\n\ndef filter_markdown_cells(notebook_path):\n    with open(notebook_path) as f:\n        nb = nbformat.read(f, as_version=4)\n        markdown_cells = [cell for cell in nb.cells if cell.cell_type == 'markdown']\n        return markdown_cells",
      "outputs": []
    },
    {
      "id": "faf03578-41de-4736-857f-79474dde716b",
      "cell_type": "code",
      "metadata": {
        "noteable": {
          "cell_type": "code"
        }
      },
      "execution_count": null,
      "source": "def write_markdown_cells_to_file(markdown_cells, output_file):\n    with open(output_file, 'w') as f:\n        for cell in markdown_cells:\n            f.write(''.join(cell.source))\n            f.write('\\n\\n')  # Add two newlines between cells",
      "outputs": []
    },
    {
      "id": "dd783e3a-46b2-403b-bbd7-0f72d4dc3b41",
      "cell_type": "code",
      "metadata": {
        "noteable": {
          "cell_type": "code"
        }
      },
      "execution_count": null,
      "source": "def filter_and_write_markdown(notebook_path, output_file):\n    markdown_cells = filter_markdown_cells(notebook_path)\n    write_markdown_cells_to_file(markdown_cells, output_file)",
      "outputs": []
    },
    {
      "id": "78c45f85-dc42-4922-b141-2bda4f046186",
      "cell_type": "code",
      "metadata": {
        "noteable": {
          "cell_type": "code"
        }
      },
      "execution_count": null,
      "source": "filter_and_write_markdown('filter_markdown_cells.ipynb', 'filter_markdown_cells.md')",
      "outputs": []
    },
    {
      "id": "cebff402-b8cb-4f46-8df4-a20f3edb21c4",
      "cell_type": "code",
      "metadata": {
        "noteable": {
          "cell_type": "code"
        }
      },
      "execution_count": null,
      "source": "from upload_notebook import upload_notebook_to_github\n\nupload_notebook_to_github('filter_markdown_cells.ipynb')\nupload_notebook_to_github('filter_markdown_cells.md')",
      "outputs": []
    }
  ]
}