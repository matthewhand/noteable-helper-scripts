{
  "nbformat": 4,
  "nbformat_minor": 5,
  "metadata": {
    "noteable-chatgpt": {
      "create_notebook": {
        "openai_conversation_id": "1d1db481-f9d9-58c7-bdb9-0df7a2cd0dcd",
        "openai_ephemeral_user_id": "cf6c4fe3-ca90-5028-8121-f1d01c536d86",
        "openai_subdivision1_iso_code": "AU-ACT"
      }
    },
    "noteable": {
      "last_transaction_id": "ff44f13e-5b68-44ea-bfb3-7c9bda7ac9d4"
    },
    "selected_hardware_size": "small"
  },
  "cells": [
    {
      "id": "7db34043-a34e-431e-952c-4e7a138f6fc8",
      "cell_type": "code",
      "metadata": {
        "jupyter": {
          "outputs_hidden": false,
          "source_hidden": false
        },
        "noteable": {
          "cell_type": "code"
        }
      },
      "execution_count": null,
      "source": "",
      "outputs": []
    },
    {
      "id": "01ba7440-cbaa-4bcb-901c-108f771dc73a",
      "cell_type": "markdown",
      "source": "# Advice for Working with Notion API\n\n1. **Environment Variables**: When working from a Python notebook, you should set the `NOTION_API_KEY` environment variable with your Notion API key. If you're interacting with a specific database in Notion, you should also set the `NOTION_DATABASE_ID` environment variable with the ID of that database.\n\n2. **Notion API Version**: When making requests to the Notion API, you need to include the 'Notion-Version' in the headers of your API request. As of June 28, 2022, the version should be set to '2022-06-28'. Here's a code fragment showing how to set the headers:\n\n```python\n# Headers for the API request\nheaders = {\n 'Authorization': f'Bearer {NOTION_API_KEY}',\n 'Notion-Version': '2022-06-28'\n}\n```\n\n3. **Database Structure**: This guide assumes that each project is a page in the database, and that the page has a 'Name' property (the name of the project) and a 'Status' property (the status of the project). If your database is structured differently, you may need to adjust your scripts accordingly.",
      "metadata": {
        "noteable": {
          "cell_type": "markdown"
        }
      }
    }
  ]
}