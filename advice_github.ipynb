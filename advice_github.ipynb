{
  "nbformat": 4,
  "nbformat_minor": 5,
  "metadata": {
    "noteable-chatgpt": {
      "create_notebook": {
        "openai_conversation_id": "1d1db481-f9d9-58c7-bdb9-0df7a2cd0dcd",
        "openai_ephemeral_user_id": "cf6c4fe3-ca90-5028-8121-f1d01c536d86",
        "openai_subdivision1_iso_code": "AU-ACT"
      }
    },
    "noteable": {
      "last_transaction_id": "2bb55750-406a-4274-8d63-e08c7f156001"
    },
    "selected_hardware_size": "small"
  },
  "cells": [
    {
      "id": "b61a8465-494c-418d-8b42-58339eed2578",
      "cell_type": "markdown",
      "source": "# Advice for Github\n\nThis notebook contains advice for using Github. The advice is designed to help future instances of ChatGPT make efficient use of the platform.\n\n## Using GITHUB_TOKEN\n\nMake use of the GITHUB_TOKEN environment variable to access the Github API. This token is used for authenticating with the GitHub API and allows you to perform actions such as creating and updating files in a repository.\n\n## Using pyGithub\n\nInstall and use the pyGithub module to access the Github API from Python notebook. This module provides a Python interface to the Github API and allows you to interact with Github in a more Pythonic way.",
      "metadata": {
        "noteable": {
          "cell_type": "markdown"
        }
      }
    },
    {
      "id": "d84ab581-4af8-45bb-a2a1-a2bb0fefade3",
      "cell_type": "markdown",
      "source": "## Using Noteable Plugin for Python Execution\n\nChatGPT can execute Python using the Noteable plugin. This method should be used for programmatically accessing the Github API. Helper scripts for this purpose can be found in the same folder as this advice.",
      "metadata": {
        "noteable": {
          "cell_type": "markdown"
        }
      }
    }
  ]
}